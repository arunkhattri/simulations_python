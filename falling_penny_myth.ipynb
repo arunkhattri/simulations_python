{
 "cells": [
  {
   "cell_type": "markdown",
   "id": "be1f0501-95ec-4dec-a145-e1c2aac06254",
   "metadata": {},
   "source": [
    "# The falling penny myth\n",
    "\n",
    "You might have heard that a penny dropped from the top of the Empire State Building would be going so fast when it hit the pavement that it would be embedded in the concrete; or if it hit a person, it would break their skull.\n",
    "\n",
    "we can test this myth by making and analyzing a model.\n",
    "\n",
    "## Get started\n",
    "\n",
    "* Assume that the effect of air resistance is small.\n",
    "* if air resistance is negligible, the primary force acting on the penny is gravity, which causes the penny to accelerate downward.\n",
    "\n",
    "if the initial velocity is `0`, the velocity after `t` seconds is `at`, and the distance the penny has dropped is\n",
    "\n",
    "$h = \\frac{at^2}{2}$\n",
    "\n",
    "Using algebra, we can solve for `t`:\n",
    "\n",
    "$t = \\sqrt{\\frac{2h}{a}}$\n",
    "\n",
    "\n",
    "Plugging in the acceleraton of gravity, $a = 9.8 \\frac{m}{s^2}$ and the height of the Empire State Building, $h = 381m$, we get $t = 8.8s$.\n",
    "\n",
    "Then computing `v = at` we get a velocity on impact of `86 m/s` which is about `190 miles per hour`. That sounds like it could hurt.\n",
    "\n",
    "Of course, these results are not exact because the model is based on simplifications. For example, we assume that gravity is constant. In fact the force of gravity is different on different parts of the globe, and gets weaker as you move away from the surface. ut these differnces are small, so ignoring them is probably a good choice for this scenario.\n",
    "\n",
    "On the other hand, ignoring **air resistance** is not a good choice. Once the penny gets to about `18 m/s`, the _upward force of air reistance_ equals the _downward force of gravity_, so the penny stops accelerating.\n",
    "\n",
    "After that, it doesn't matter how far the penny falls; it hits the sidewalk (or your head) at about `18 m/s`, much less than `86 m/s`, as the simple model predicts."
   ]
  },
  {
   "cell_type": "markdown",
   "id": "453c37a7-dc21-46db-98fd-5389222c1276",
   "metadata": {},
   "source": [
    "## Computation"
   ]
  },
  {
   "cell_type": "code",
   "execution_count": 4,
   "id": "7198dc81-8dd4-42bc-aa56-69db806960c2",
   "metadata": {},
   "outputs": [],
   "source": [
    "from pint import UnitRegistry\n",
    "ureg = UnitRegistry()\n",
    "meter = ureg.meter\n",
    "second = ureg.second"
   ]
  },
  {
   "cell_type": "code",
   "execution_count": 5,
   "id": "046c2542-8545-41a1-9ca9-18aa11274066",
   "metadata": {},
   "outputs": [
    {
     "data": {
      "text/html": [
       "9.8 meter/second<sup>2</sup>"
      ],
      "text/latex": [
       "$9.8\\ \\frac{\\mathrm{meter}}{\\mathrm{second}^{2}}$"
      ],
      "text/plain": [
       "9.8 <Unit('meter / second ** 2')>"
      ]
     },
     "execution_count": 5,
     "metadata": {},
     "output_type": "execute_result"
    }
   ],
   "source": [
    "a = 9.8 * meter / second ** 2\n",
    "a"
   ]
  },
  {
   "cell_type": "code",
   "execution_count": 6,
   "id": "0ad842e6-9e3d-4a4a-8be5-fb0594798c51",
   "metadata": {},
   "outputs": [],
   "source": [
    "t = 3.4 * second"
   ]
  },
  {
   "cell_type": "markdown",
   "id": "c9d7dda8-df8a-4380-8a2d-019c99da4a1a",
   "metadata": {},
   "source": [
    "velocity of penny after `t` seconds\n",
    "\n",
    "`v = a * t`"
   ]
  },
  {
   "cell_type": "code",
   "execution_count": 7,
   "id": "b6ba020c-2a5b-463e-9f08-7c38f28b5bfa",
   "metadata": {},
   "outputs": [
    {
     "data": {
      "text/html": [
       "33.32 meter/second"
      ],
      "text/latex": [
       "$33.32\\ \\frac{\\mathrm{meter}}{\\mathrm{second}}$"
      ],
      "text/plain": [
       "33.32 <Unit('meter / second')>"
      ]
     },
     "execution_count": 7,
     "metadata": {},
     "output_type": "execute_result"
    }
   ],
   "source": [
    "v = a * t\n",
    "v"
   ]
  },
  {
   "cell_type": "markdown",
   "id": "14e26bec-9bcc-4bd3-810c-1ee6e8b82ddc",
   "metadata": {},
   "source": [
    "After  3.4s, the velocity of the penny is about 33.2 m/s (ignoring air resistance). Now let's see how far it would travel during that time:"
   ]
  },
  {
   "cell_type": "code",
   "execution_count": 8,
   "id": "4b9ec8d4-1d8a-4d90-8f5c-f3870064229c",
   "metadata": {},
   "outputs": [
    {
     "data": {
      "text/html": [
       "56.644 meter"
      ],
      "text/latex": [
       "$56.644\\ \\mathrm{meter}$"
      ],
      "text/plain": [
       "56.644 <Unit('meter')>"
      ]
     },
     "execution_count": 8,
     "metadata": {},
     "output_type": "execute_result"
    }
   ],
   "source": [
    "x = a * t **2 / 2\n",
    "x"
   ]
  },
  {
   "cell_type": "markdown",
   "id": "e69e71af-7590-483e-95bb-a527d4082e63",
   "metadata": {},
   "source": [
    "it would travel about `56 m`. Now, going in the other direction, let's compute the time it takes to fall `381 m`, the height of the Empire State Building."
   ]
  },
  {
   "cell_type": "code",
   "execution_count": 9,
   "id": "3ee0e31c-0bb0-451f-93bd-1523a8d33e18",
   "metadata": {},
   "outputs": [],
   "source": [
    "h = 381 * meter"
   ]
  },
  {
   "cell_type": "code",
   "execution_count": 10,
   "id": "1725a028-262e-424f-a53d-d614eb963ed6",
   "metadata": {},
   "outputs": [],
   "source": [
    "from numpy import sqrt"
   ]
  },
  {
   "cell_type": "code",
   "execution_count": 11,
   "id": "57a55e63-896b-4b7c-af00-453c929c072b",
   "metadata": {},
   "outputs": [
    {
     "data": {
      "text/html": [
       "8.817885349720552 second"
      ],
      "text/latex": [
       "$8.817885349720552\\ \\mathrm{second}$"
      ],
      "text/plain": [
       "8.817885349720552 <Unit('second')>"
      ]
     },
     "execution_count": 11,
     "metadata": {},
     "output_type": "execute_result"
    }
   ],
   "source": [
    "t = sqrt(2 * h /a)\n",
    "t"
   ]
  },
  {
   "cell_type": "markdown",
   "id": "56b06ffb-b5e0-4a3d-8ab6-7bcedbc68642",
   "metadata": {},
   "source": [
    "With no air resistance, it would take about 8.8s for the penny to reach the sidewalk."
   ]
  },
  {
   "cell_type": "code",
   "execution_count": 12,
   "id": "ee716e98-e9cb-48e1-9ef9-9e9d836b4cb2",
   "metadata": {},
   "outputs": [
    {
     "data": {
      "text/html": [
       "86.41527642726142 meter/second"
      ],
      "text/latex": [
       "$86.41527642726142\\ \\frac{\\mathrm{meter}}{\\mathrm{second}}$"
      ],
      "text/plain": [
       "86.41527642726142 <Unit('meter / second')>"
      ]
     },
     "execution_count": 12,
     "metadata": {},
     "output_type": "execute_result"
    }
   ],
   "source": [
    "v = a * t\n",
    "v"
   ]
  },
  {
   "cell_type": "markdown",
   "id": "1d80bb90-c50d-4d2a-b262-6b6580d3a552",
   "metadata": {},
   "source": [
    "and its velocity at the time of impace would be 86.41 m/s"
   ]
  },
  {
   "cell_type": "code",
   "execution_count": 13,
   "id": "c63ab0e2-f6b4-497d-a940-ab3d09703d60",
   "metadata": {},
   "outputs": [
    {
     "data": {
      "text/html": [
       "193.30546802805432 mile/hour"
      ],
      "text/latex": [
       "$193.30546802805432\\ \\frac{\\mathrm{mile}}{\\mathrm{hour}}$"
      ],
      "text/plain": [
       "193.30546802805432 <Unit('mile / hour')>"
      ]
     },
     "execution_count": 13,
     "metadata": {},
     "output_type": "execute_result"
    }
   ],
   "source": [
    "mile = ureg.mile\n",
    "hour = ureg.hour\n",
    "v.to(mile/hour)"
   ]
  },
  {
   "cell_type": "code",
   "execution_count": null,
   "id": "3b7e69cd-22ff-409d-8526-c12cb74ec869",
   "metadata": {},
   "outputs": [],
   "source": []
  }
 ],
 "metadata": {
  "kernelspec": {
   "display_name": "simulations",
   "language": "python",
   "name": "simulations"
  },
  "language_info": {
   "codemirror_mode": {
    "name": "ipython",
    "version": 3
   },
   "file_extension": ".py",
   "mimetype": "text/x-python",
   "name": "python",
   "nbconvert_exporter": "python",
   "pygments_lexer": "ipython3",
   "version": "3.10.5"
  }
 },
 "nbformat": 4,
 "nbformat_minor": 5
}
